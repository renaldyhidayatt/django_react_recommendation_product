{
 "cells": [
  {
   "cell_type": "code",
   "execution_count": 3,
   "metadata": {},
   "outputs": [],
   "source": [
    "import pandas as pd\n",
    "from datetime import datetime, timedelta\n",
    "\n",
    "# Load the data\n",
    "df_order = pd.read_csv('./dataset/modified_order.csv')\n",
    "\n",
    "# Convert 'created_at' and 'updated_at' columns to datetime\n",
    "df_order['created_at'] = pd.to_datetime(df_order['created_at'])\n",
    "df_order['updated_at'] = pd.to_datetime(df_order['updated_at'])\n",
    "\n",
    "month_counter = 0\n",
    "current_month = 1\n",
    "\n",
    "for index, row in df_order.iterrows():\n",
    "    # Mendapatkan tanggal yang baru dengan menambahkan jumlah hari dari month_counter ke tanggal 1 dari current_month\n",
    "    new_date = datetime(2023, current_month, 1) + timedelta(days=month_counter)\n",
    "    \n",
    "    # Mengganti bagian waktu 'created_at' dengan waktu dari 'updated_at'\n",
    "    updated_time = df_order.at[index, 'updated_at'].time()\n",
    "    new_date = new_date.replace(\n",
    "        hour=updated_time.hour,\n",
    "        minute=updated_time.minute,\n",
    "        second=updated_time.second\n",
    "    )\n",
    "    \n",
    "    # Mengganti nilai 'created_at' pada DataFrame dengan nilai yang baru\n",
    "    df_order.at[index, 'created_at'] = new_date\n",
    "    \n",
    "    month_counter += 1\n",
    "\n",
    "    if month_counter >= 160:\n",
    "        month_counter = 0\n",
    "        current_month += 1\n",
    "        if current_month > 12:\n",
    "            break\n",
    "\n"
   ]
  },
  {
   "cell_type": "code",
   "execution_count": 2,
   "metadata": {},
   "outputs": [
    {
     "data": {
      "text/plain": [
       "0      2023-01-01 05:46:25\n",
       "1      2023-01-02 07:18:33\n",
       "2      2023-01-03 07:18:33\n",
       "3      2023-01-04 07:18:33\n",
       "4      2023-01-05 07:18:33\n",
       "               ...        \n",
       "1956   2023-11-03 07:15:45\n",
       "1957   2023-11-03 07:15:45\n",
       "1958   2023-11-03 07:15:45\n",
       "1959   2023-11-03 07:15:45\n",
       "1960   2023-11-03 07:15:45\n",
       "Name: created_at, Length: 1961, dtype: datetime64[ns]"
      ]
     },
     "execution_count": 2,
     "metadata": {},
     "output_type": "execute_result"
    }
   ],
   "source": [
    "df_order['created_at']"
   ]
  }
 ],
 "metadata": {
  "kernelspec": {
   "display_name": "Python 3",
   "language": "python",
   "name": "python3"
  },
  "language_info": {
   "codemirror_mode": {
    "name": "ipython",
    "version": 3
   },
   "file_extension": ".py",
   "mimetype": "text/x-python",
   "name": "python",
   "nbconvert_exporter": "python",
   "pygments_lexer": "ipython3",
   "version": "3.11.6"
  }
 },
 "nbformat": 4,
 "nbformat_minor": 2
}
