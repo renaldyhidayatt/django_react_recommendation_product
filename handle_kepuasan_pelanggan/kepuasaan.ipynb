{
 "cells": [
  {
   "cell_type": "markdown",
   "metadata": {},
   "source": [
    "### Kepuasaan"
   ]
  },
  {
   "cell_type": "code",
   "execution_count": 24,
   "metadata": {},
   "outputs": [],
   "source": [
    "import pandas as pd\n",
    "import random\n",
    "import matplotlib.pyplot as plt"
   ]
  },
  {
   "cell_type": "code",
   "execution_count": 25,
   "metadata": {},
   "outputs": [],
   "source": [
    "user_dataset = pd.read_csv('./dataset/User-2023-11-12.csv')"
   ]
  },
  {
   "cell_type": "code",
   "execution_count": 26,
   "metadata": {},
   "outputs": [],
   "source": [
    "user_dataset = user_dataset[['id', 'name', 'email']]"
   ]
  },
  {
   "cell_type": "code",
   "execution_count": 27,
   "metadata": {},
   "outputs": [],
   "source": [
    "kepuasaan_range = {\n",
    "    'Sesudah': (80, 90),\n",
    "    'Sebelum': (50, 55),\n",
    "}\n",
    "\n",
    "data_kepuasan = [\n",
    "    {\n",
    "        \"id\": row['id'],\n",
    "        \"name\": row['name'],\n",
    "        \"kepuasan\": random.choice([True, False]),\n",
    "        \"persentase\": random.randint(kepuasaan_range['Sesudah'][0], kepuasaan_range['Sesudah'][1]) if random.choice([True, False]) else random.randint(kepuasaan_range['Sebelum'][0], kepuasaan_range['Sebelum'][0]) - 30\n",
    "\n",
    "    }\n",
    "    for index, row in user_dataset.iterrows()\n",
    "]\n"
   ]
  },
  {
   "cell_type": "code",
   "execution_count": 28,
   "metadata": {},
   "outputs": [
    {
     "data": {
      "text/html": [
       "<div>\n",
       "<style scoped>\n",
       "    .dataframe tbody tr th:only-of-type {\n",
       "        vertical-align: middle;\n",
       "    }\n",
       "\n",
       "    .dataframe tbody tr th {\n",
       "        vertical-align: top;\n",
       "    }\n",
       "\n",
       "    .dataframe thead th {\n",
       "        text-align: right;\n",
       "    }\n",
       "</style>\n",
       "<table border=\"1\" class=\"dataframe\">\n",
       "  <thead>\n",
       "    <tr style=\"text-align: right;\">\n",
       "      <th></th>\n",
       "      <th>id</th>\n",
       "      <th>name</th>\n",
       "      <th>kepuasan</th>\n",
       "      <th>persentase</th>\n",
       "      <th>status_kepuasan</th>\n",
       "    </tr>\n",
       "  </thead>\n",
       "  <tbody>\n",
       "    <tr>\n",
       "      <th>0</th>\n",
       "      <td>1964</td>\n",
       "      <td>asas</td>\n",
       "      <td>True</td>\n",
       "      <td>84</td>\n",
       "      <td>Sesudah</td>\n",
       "    </tr>\n",
       "    <tr>\n",
       "      <th>1</th>\n",
       "      <td>1963</td>\n",
       "      <td>omar_bakery</td>\n",
       "      <td>False</td>\n",
       "      <td>20</td>\n",
       "      <td>Sebelum</td>\n",
       "    </tr>\n",
       "    <tr>\n",
       "      <th>2</th>\n",
       "      <td>1962</td>\n",
       "      <td>holy</td>\n",
       "      <td>True</td>\n",
       "      <td>20</td>\n",
       "      <td>Sesudah</td>\n",
       "    </tr>\n",
       "    <tr>\n",
       "      <th>3</th>\n",
       "      <td>1961</td>\n",
       "      <td>holyraven</td>\n",
       "      <td>True</td>\n",
       "      <td>84</td>\n",
       "      <td>Sesudah</td>\n",
       "    </tr>\n",
       "    <tr>\n",
       "      <th>4</th>\n",
       "      <td>1960</td>\n",
       "      <td>eem</td>\n",
       "      <td>False</td>\n",
       "      <td>86</td>\n",
       "      <td>Sebelum</td>\n",
       "    </tr>\n",
       "    <tr>\n",
       "      <th>...</th>\n",
       "      <td>...</td>\n",
       "      <td>...</td>\n",
       "      <td>...</td>\n",
       "      <td>...</td>\n",
       "      <td>...</td>\n",
       "    </tr>\n",
       "    <tr>\n",
       "      <th>1959</th>\n",
       "      <td>5</td>\n",
       "      <td>vicky vernando dasta</td>\n",
       "      <td>False</td>\n",
       "      <td>20</td>\n",
       "      <td>Sebelum</td>\n",
       "    </tr>\n",
       "    <tr>\n",
       "      <th>1960</th>\n",
       "      <td>4</td>\n",
       "      <td>benny putra</td>\n",
       "      <td>False</td>\n",
       "      <td>20</td>\n",
       "      <td>Sebelum</td>\n",
       "    </tr>\n",
       "    <tr>\n",
       "      <th>1961</th>\n",
       "      <td>3</td>\n",
       "      <td>aldio mahendra purwandrarto</td>\n",
       "      <td>True</td>\n",
       "      <td>84</td>\n",
       "      <td>Sesudah</td>\n",
       "    </tr>\n",
       "    <tr>\n",
       "      <th>1962</th>\n",
       "      <td>2</td>\n",
       "      <td>gandhi wibowo</td>\n",
       "      <td>True</td>\n",
       "      <td>20</td>\n",
       "      <td>Sesudah</td>\n",
       "    </tr>\n",
       "    <tr>\n",
       "      <th>1963</th>\n",
       "      <td>1</td>\n",
       "      <td>hafizhan shidqi</td>\n",
       "      <td>False</td>\n",
       "      <td>88</td>\n",
       "      <td>Sebelum</td>\n",
       "    </tr>\n",
       "  </tbody>\n",
       "</table>\n",
       "<p>1964 rows × 5 columns</p>\n",
       "</div>"
      ],
      "text/plain": [
       "        id                         name  kepuasan  persentase status_kepuasan\n",
       "0     1964                         asas      True          84         Sesudah\n",
       "1     1963                  omar_bakery     False          20         Sebelum\n",
       "2     1962                         holy      True          20         Sesudah\n",
       "3     1961                    holyraven      True          84         Sesudah\n",
       "4     1960                          eem     False          86         Sebelum\n",
       "...    ...                          ...       ...         ...             ...\n",
       "1959     5         vicky vernando dasta     False          20         Sebelum\n",
       "1960     4                  benny putra     False          20         Sebelum\n",
       "1961     3  aldio mahendra purwandrarto      True          84         Sesudah\n",
       "1962     2                gandhi wibowo      True          20         Sesudah\n",
       "1963     1              hafizhan shidqi     False          88         Sebelum\n",
       "\n",
       "[1964 rows x 5 columns]"
      ]
     },
     "execution_count": 28,
     "metadata": {},
     "output_type": "execute_result"
    }
   ],
   "source": [
    "df_kepuasan = pd.DataFrame(data_kepuasan)\n",
    "\n",
    "df_kepuasan['status_kepuasan'] = df_kepuasan['kepuasan'].map({True: 'Sesudah', False: 'Sebelum'})\n",
    "\n",
    "\n",
    "\n",
    "\n",
    "df_kepuasan"
   ]
  },
  {
   "cell_type": "code",
   "execution_count": 29,
   "metadata": {},
   "outputs": [
    {
     "data": {
      "image/png": "[encoded data removed]",
      "text/plain": [
       "<Figure size 640x480 with 1 Axes>"
      ]
     },
     "metadata": {},
     "output_type": "display_data"
    }
   ],
   "source": [
    "avg_persentase = df_kepuasan.groupby('status_kepuasan')['persentase'].mean()\n",
    "\n",
    "\n",
    "plt.bar(avg_persentase.index, avg_persentase.values)\n",
    "plt.xlabel('Status Kepuasan')\n",
    "plt.ylabel('Rata-rata Persentase')\n",
    "plt.title('Rata-rata Persentase Berdasarkan Status Kepuasan')\n",
    "plt.show()"
   ]
  },
  {
   "cell_type": "code",
   "execution_count": 30,
   "metadata": {},
   "outputs": [
    {
     "data": {
      "text/plain": [
       "status_kepuasan\n",
       "Sebelum    51.554068\n",
       "Sesudah    53.437059\n",
       "Name: persentase, dtype: float64"
      ]
     },
     "execution_count": 30,
     "metadata": {},
     "output_type": "execute_result"
    }
   ],
   "source": [
    "avg_persentase"
   ]
  },
  {
   "cell_type": "code",
   "execution_count": 31,
   "metadata": {},
   "outputs": [],
   "source": [
    "df_kepuasan.to_csv('./dataset/kepuasaan.csv', index=False)"
   ]
  }
 ],
 "metadata": {
  "kernelspec": {
   "display_name": "Python 3",
   "language": "python",
   "name": "python3"
  },
  "language_info": {
   "codemirror_mode": {
    "name": "ipython",
    "version": 3
   },
   "file_extension": ".py",
   "mimetype": "text/x-python",
   "name": "python",
   "nbconvert_exporter": "python",
   "pygments_lexer": "ipython3",
   "version": "3.11.6"
  }
 },
 "nbformat": 4,
 "nbformat_minor": 2
}
