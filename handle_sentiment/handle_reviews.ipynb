{
 "cells": [
  {
   "cell_type": "code",
   "execution_count": 25,
   "metadata": {},
   "outputs": [],
   "source": [
    "import pandas as pd"
   ]
  },
  {
   "cell_type": "code",
   "execution_count": 26,
   "metadata": {},
   "outputs": [],
   "source": [
    "df_erigo = pd.read_csv(\"./dataset/reviews_erigo.csv\")\n",
    "df_robot = pd.read_csv(\"./dataset/reviews_robot.csv\")\n",
    "df_sandisk = pd.read_csv(\"./dataset/reviews_sandisk.csv\")\n",
    "df_teamgroup = pd.read_csv(\"./dataset/reviews_teamgroup.csv\")\n",
    "df_gm = pd.read_csv(\"./dataset/reviews_gm.csv\")\n",
    "df_rinnai = pd.read_csv(\"./dataset/reviews_rinnai.csv\")\n",
    "df_xiaomi = pd.read_csv(\"./dataset/reviews_xiaomi.csv\")\n",
    "df_bardi = pd.read_csv(\"./dataset/reviews_bardi.csv\")"
   ]
  },
  {
   "cell_type": "markdown",
   "metadata": {},
   "source": [
    "### Panjang Erigo"
   ]
  },
  {
   "cell_type": "code",
   "execution_count": 27,
   "metadata": {},
   "outputs": [
    {
     "name": "stdout",
     "output_type": "stream",
     "text": [
      "Panjang DataFrame reviews_erigo: 160\n"
     ]
    }
   ],
   "source": [
    "panjang_reviews_erigo = len(df_erigo)\n",
    "print(\"Panjang DataFrame reviews_erigo:\", panjang_reviews_erigo)\n"
   ]
  },
  {
   "cell_type": "markdown",
   "metadata": {},
   "source": [
    "### Panjang Robot"
   ]
  },
  {
   "cell_type": "code",
   "execution_count": 28,
   "metadata": {},
   "outputs": [
    {
     "name": "stdout",
     "output_type": "stream",
     "text": [
      "Panjang DataFrame reviews_robot: 160\n"
     ]
    }
   ],
   "source": [
    "panjang_reviews_robot = len(df_robot)\n",
    "print(\"Panjang DataFrame reviews_robot:\", panjang_reviews_erigo)\n"
   ]
  },
  {
   "cell_type": "markdown",
   "metadata": {},
   "source": [
    "### Panjang Sandisk"
   ]
  },
  {
   "cell_type": "code",
   "execution_count": 29,
   "metadata": {},
   "outputs": [
    {
     "name": "stdout",
     "output_type": "stream",
     "text": [
      "Panjang DataFrame reviews_sandisk: 160\n"
     ]
    }
   ],
   "source": [
    "panjang_reviews_sandisk = len(df_sandisk)\n",
    "print(\"Panjang DataFrame reviews_sandisk:\", panjang_reviews_erigo)\n"
   ]
  },
  {
   "cell_type": "markdown",
   "metadata": {},
   "source": [
    "### Panjang TeamGroup"
   ]
  },
  {
   "cell_type": "code",
   "execution_count": 30,
   "metadata": {},
   "outputs": [
    {
     "name": "stdout",
     "output_type": "stream",
     "text": [
      "Panjang DataFrame reviews_sandisk: 160\n"
     ]
    }
   ],
   "source": [
    "panjang_reviews_teamgroup = len(df_teamgroup)\n",
    "print(\"Panjang DataFrame reviews_sandisk:\", panjang_reviews_teamgroup)"
   ]
  },
  {
   "cell_type": "markdown",
   "metadata": {},
   "source": [
    "### Panjang Rinnai"
   ]
  },
  {
   "cell_type": "code",
   "execution_count": 31,
   "metadata": {},
   "outputs": [
    {
     "name": "stdout",
     "output_type": "stream",
     "text": [
      "Panjang DataFrame reviews_sandisk: 160\n"
     ]
    }
   ],
   "source": [
    "panjang_reviews_rinnai = len(df_rinnai)\n",
    "print(\"Panjang DataFrame reviews_sandisk:\", panjang_reviews_rinnai)"
   ]
  },
  {
   "cell_type": "markdown",
   "metadata": {},
   "source": [
    "### Panjang Gm"
   ]
  },
  {
   "cell_type": "code",
   "execution_count": 32,
   "metadata": {},
   "outputs": [
    {
     "name": "stdout",
     "output_type": "stream",
     "text": [
      "Panjang DataFrame reviews_sandisk: 160\n"
     ]
    }
   ],
   "source": [
    "panjang_reviews_Gm = len(df_gm)\n",
    "print(\"Panjang DataFrame reviews_sandisk:\", panjang_reviews_rinnai)"
   ]
  },
  {
   "cell_type": "markdown",
   "metadata": {},
   "source": [
    "### Panjang Xiaomi"
   ]
  },
  {
   "cell_type": "code",
   "execution_count": 33,
   "metadata": {},
   "outputs": [
    {
     "name": "stdout",
     "output_type": "stream",
     "text": [
      "Panjang DataFrame reviews_xiaomi: 160\n"
     ]
    }
   ],
   "source": [
    "panjang_reviews_xiaomi = len(df_xiaomi)\n",
    "print(\"Panjang DataFrame reviews_xiaomi:\", panjang_reviews_xiaomi)"
   ]
  },
  {
   "cell_type": "markdown",
   "metadata": {},
   "source": [
    "### Panjang Bardi"
   ]
  },
  {
   "cell_type": "code",
   "execution_count": 34,
   "metadata": {},
   "outputs": [
    {
     "name": "stdout",
     "output_type": "stream",
     "text": [
      "Panjang DataFrame reviews_bardi: 160\n"
     ]
    }
   ],
   "source": [
    "panjang_reviews_bardi = len(df_bardi)\n",
    "print(\"Panjang DataFrame reviews_bardi:\", panjang_reviews_bardi)"
   ]
  }
 ],
 "metadata": {
  "kernelspec": {
   "display_name": "Python 3",
   "language": "python",
   "name": "python3"
  },
  "language_info": {
   "codemirror_mode": {
    "name": "ipython",
    "version": 3
   },
   "file_extension": ".py",
   "mimetype": "text/x-python",
   "name": "python",
   "nbconvert_exporter": "python",
   "pygments_lexer": "ipython3",
   "version": "3.11.3"
  },
  "orig_nbformat": 4
 },
 "nbformat": 4,
 "nbformat_minor": 2
}
